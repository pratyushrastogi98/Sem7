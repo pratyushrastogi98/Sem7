{
  "nbformat": 4,
  "nbformat_minor": 0,
  "metadata": {
    "colab": {
      "name": "Economic Load Dispatch Using ANN.ipynb",
      "provenance": [],
      "collapsed_sections": [],
      "toc_visible": true,
      "include_colab_link": true
    },
    "kernelspec": {
      "name": "python3",
      "display_name": "Python 3"
    },
    "accelerator": "GPU"
  },
  "cells": [
    {
      "cell_type": "markdown",
      "metadata": {
        "id": "view-in-github",
        "colab_type": "text"
      },
      "source": [
        "<a href=\"https://colab.research.google.com/github/pratyushrastogi98/Sem7/blob/main/Economic_Load_Dispatch_Using_ANN.ipynb\" target=\"_parent\"><img src=\"https://colab.research.google.com/assets/colab-badge.svg\" alt=\"Open In Colab\"/></a>"
      ]
    },
    {
      "cell_type": "code",
      "metadata": {
        "id": "O88ILwe_8w3w",
        "colab": {
          "base_uri": "https://localhost:8080/"
        },
        "outputId": "050c4445-53a0-4d0d-ac1f-f2b987bf0510"
      },
      "source": [
        "%cd sample_data\n",
        "!ls"
      ],
      "execution_count": null,
      "outputs": [
        {
          "output_type": "stream",
          "text": [
            "/content/sample_data\n",
            "anscombe.json\t\t      DatasetELD.csv\t     README.md\n",
            "california_housing_test.csv   mnist_test.csv\n",
            "california_housing_train.csv  mnist_train_small.csv\n"
          ],
          "name": "stdout"
        }
      ]
    },
    {
      "cell_type": "code",
      "metadata": {
        "id": "2IS4PZibIqX7"
      },
      "source": [
        "# directories\n",
        "import pandas as pd\n",
        "import numpy as np\n",
        "import matplotlib.pyplot as plt\n",
        "import tensorflow as tf\n",
        "from tensorflow import keras"
      ],
      "execution_count": null,
      "outputs": []
    },
    {
      "cell_type": "markdown",
      "metadata": {
        "id": "Dky14AdhSZ3f"
      },
      "source": [
        "#Loading the Economic Load Dispatch dataset\n"
      ]
    },
    {
      "cell_type": "markdown",
      "metadata": {
        "id": "k9TmOAwGSfuR"
      },
      "source": [
        "This section will load the training and test dataset.\n",
        "We will split the output data into three ssets for each generator"
      ]
    },
    {
      "cell_type": "code",
      "metadata": {
        "id": "F_c3DFmLIqdz",
        "colab": {
          "base_uri": "https://localhost:8080/"
        },
        "outputId": "9f4aa129-6dae-46a8-d573-381e8ebf3408"
      },
      "source": [
        "training_data = pd.read_csv('DatasetELD.csv')\n",
        "print('Training data loaded...')"
      ],
      "execution_count": null,
      "outputs": [
        {
          "output_type": "stream",
          "text": [
            "Training data loaded...\n"
          ],
          "name": "stdout"
        }
      ]
    },
    {
      "cell_type": "code",
      "metadata": {
        "id": "-IhjtyOyIqkW",
        "colab": {
          "base_uri": "https://localhost:8080/",
          "height": 204
        },
        "outputId": "cb0e8fa3-37e5-4c2f-f120-c39855e50918"
      },
      "source": [
        "training_data.head()"
      ],
      "execution_count": null,
      "outputs": [
        {
          "output_type": "execute_result",
          "data": {
            "text/html": [
              "<div>\n",
              "<style scoped>\n",
              "    .dataframe tbody tr th:only-of-type {\n",
              "        vertical-align: middle;\n",
              "    }\n",
              "\n",
              "    .dataframe tbody tr th {\n",
              "        vertical-align: top;\n",
              "    }\n",
              "\n",
              "    .dataframe thead th {\n",
              "        text-align: right;\n",
              "    }\n",
              "</style>\n",
              "<table border=\"1\" class=\"dataframe\">\n",
              "  <thead>\n",
              "    <tr style=\"text-align: right;\">\n",
              "      <th></th>\n",
              "      <th>Pdemand (MW)</th>\n",
              "      <th>G1 (MW)</th>\n",
              "      <th>G2 (MW)</th>\n",
              "      <th>G3 (MW)</th>\n",
              "      <th>lambda ($/MWh)</th>\n",
              "    </tr>\n",
              "  </thead>\n",
              "  <tbody>\n",
              "    <tr>\n",
              "      <th>0</th>\n",
              "      <td>150</td>\n",
              "      <td>35.0907</td>\n",
              "      <td>64.1317</td>\n",
              "      <td>52.4767</td>\n",
              "      <td>7.678935</td>\n",
              "    </tr>\n",
              "    <tr>\n",
              "      <th>1</th>\n",
              "      <td>100</td>\n",
              "      <td>18.3410</td>\n",
              "      <td>49.2796</td>\n",
              "      <td>33.2038</td>\n",
              "      <td>7.352249</td>\n",
              "    </tr>\n",
              "    <tr>\n",
              "      <th>2</th>\n",
              "      <td>126</td>\n",
              "      <td>24.0209</td>\n",
              "      <td>60.2408</td>\n",
              "      <td>41.7382</td>\n",
              "      <td>7.384335</td>\n",
              "    </tr>\n",
              "    <tr>\n",
              "      <th>3</th>\n",
              "      <td>119</td>\n",
              "      <td>21.7120</td>\n",
              "      <td>58.1885</td>\n",
              "      <td>39.0995</td>\n",
              "      <td>7.347393</td>\n",
              "    </tr>\n",
              "    <tr>\n",
              "      <th>4</th>\n",
              "      <td>227</td>\n",
              "      <td>80.7580</td>\n",
              "      <td>80.0000</td>\n",
              "      <td>70.0000</td>\n",
              "      <td>8.594755</td>\n",
              "    </tr>\n",
              "  </tbody>\n",
              "</table>\n",
              "</div>"
            ],
            "text/plain": [
              "   Pdemand (MW)  G1 (MW)  G2 (MW)  G3 (MW)  lambda ($/MWh)\n",
              "0           150  35.0907  64.1317  52.4767        7.678935\n",
              "1           100  18.3410  49.2796  33.2038        7.352249\n",
              "2           126  24.0209  60.2408  41.7382        7.384335\n",
              "3           119  21.7120  58.1885  39.0995        7.347393\n",
              "4           227  80.7580  80.0000  70.0000        8.594755"
            ]
          },
          "metadata": {
            "tags": []
          },
          "execution_count": 4
        }
      ]
    },
    {
      "cell_type": "code",
      "metadata": {
        "id": "hY0Y-bZzTCCA",
        "colab": {
          "base_uri": "https://localhost:8080/",
          "height": 297
        },
        "outputId": "ab031309-8793-4910-dbfe-b79ca5d441cd"
      },
      "source": [
        "training_data.describe()"
      ],
      "execution_count": null,
      "outputs": [
        {
          "output_type": "execute_result",
          "data": {
            "text/html": [
              "<div>\n",
              "<style scoped>\n",
              "    .dataframe tbody tr th:only-of-type {\n",
              "        vertical-align: middle;\n",
              "    }\n",
              "\n",
              "    .dataframe tbody tr th {\n",
              "        vertical-align: top;\n",
              "    }\n",
              "\n",
              "    .dataframe thead th {\n",
              "        text-align: right;\n",
              "    }\n",
              "</style>\n",
              "<table border=\"1\" class=\"dataframe\">\n",
              "  <thead>\n",
              "    <tr style=\"text-align: right;\">\n",
              "      <th></th>\n",
              "      <th>Pdemand (MW)</th>\n",
              "      <th>G1 (MW)</th>\n",
              "      <th>G2 (MW)</th>\n",
              "      <th>G3 (MW)</th>\n",
              "      <th>lambda ($/MWh)</th>\n",
              "    </tr>\n",
              "  </thead>\n",
              "  <tbody>\n",
              "    <tr>\n",
              "      <th>count</th>\n",
              "      <td>40.000000</td>\n",
              "      <td>40.000000</td>\n",
              "      <td>40.000000</td>\n",
              "      <td>40.000000</td>\n",
              "      <td>4.000000e+01</td>\n",
              "    </tr>\n",
              "    <tr>\n",
              "      <th>mean</th>\n",
              "      <td>131.950000</td>\n",
              "      <td>34.542727</td>\n",
              "      <td>55.708375</td>\n",
              "      <td>43.140727</td>\n",
              "      <td>2.500074e+05</td>\n",
              "    </tr>\n",
              "    <tr>\n",
              "      <th>std</th>\n",
              "      <td>67.769197</td>\n",
              "      <td>25.159262</td>\n",
              "      <td>22.321564</td>\n",
              "      <td>23.474232</td>\n",
              "      <td>1.581138e+06</td>\n",
              "    </tr>\n",
              "    <tr>\n",
              "      <th>min</th>\n",
              "      <td>30.000000</td>\n",
              "      <td>10.000000</td>\n",
              "      <td>10.062800</td>\n",
              "      <td>10.000000</td>\n",
              "      <td>6.511007e+00</td>\n",
              "    </tr>\n",
              "    <tr>\n",
              "      <th>25%</th>\n",
              "      <td>70.500000</td>\n",
              "      <td>10.000000</td>\n",
              "      <td>39.914450</td>\n",
              "      <td>21.050025</td>\n",
              "      <td>7.138848e+00</td>\n",
              "    </tr>\n",
              "    <tr>\n",
              "      <th>50%</th>\n",
              "      <td>126.000000</td>\n",
              "      <td>25.529000</td>\n",
              "      <td>59.214650</td>\n",
              "      <td>42.473100</td>\n",
              "      <td>7.469140e+00</td>\n",
              "    </tr>\n",
              "    <tr>\n",
              "      <th>75%</th>\n",
              "      <td>192.500000</td>\n",
              "      <td>49.511650</td>\n",
              "      <td>76.929375</td>\n",
              "      <td>68.790175</td>\n",
              "      <td>7.964118e+00</td>\n",
              "    </tr>\n",
              "    <tr>\n",
              "      <th>max</th>\n",
              "      <td>235.000000</td>\n",
              "      <td>85.000000</td>\n",
              "      <td>80.000000</td>\n",
              "      <td>70.000000</td>\n",
              "      <td>1.000000e+07</td>\n",
              "    </tr>\n",
              "  </tbody>\n",
              "</table>\n",
              "</div>"
            ],
            "text/plain": [
              "       Pdemand (MW)    G1 (MW)    G2 (MW)    G3 (MW)  lambda ($/MWh)\n",
              "count     40.000000  40.000000  40.000000  40.000000    4.000000e+01\n",
              "mean     131.950000  34.542727  55.708375  43.140727    2.500074e+05\n",
              "std       67.769197  25.159262  22.321564  23.474232    1.581138e+06\n",
              "min       30.000000  10.000000  10.062800  10.000000    6.511007e+00\n",
              "25%       70.500000  10.000000  39.914450  21.050025    7.138848e+00\n",
              "50%      126.000000  25.529000  59.214650  42.473100    7.469140e+00\n",
              "75%      192.500000  49.511650  76.929375  68.790175    7.964118e+00\n",
              "max      235.000000  85.000000  80.000000  70.000000    1.000000e+07"
            ]
          },
          "metadata": {
            "tags": []
          },
          "execution_count": 5
        }
      ]
    },
    {
      "cell_type": "code",
      "metadata": {
        "id": "YkreLoa3Pqxf"
      },
      "source": [
        "# convert data as a numpy array\n",
        "training_data = training_data.to_numpy()"
      ],
      "execution_count": null,
      "outputs": []
    },
    {
      "cell_type": "code",
      "metadata": {
        "colab": {
          "base_uri": "https://localhost:8080/"
        },
        "id": "9jWWXgAmmQBw",
        "outputId": "3e5dff17-35d2-42f6-fa41-8b219fd1e668"
      },
      "source": [
        "type(training_data)"
      ],
      "execution_count": null,
      "outputs": [
        {
          "output_type": "execute_result",
          "data": {
            "text/plain": [
              "numpy.ndarray"
            ]
          },
          "metadata": {
            "tags": []
          },
          "execution_count": 7
        }
      ]
    },
    {
      "cell_type": "code",
      "metadata": {
        "id": "8Ts6ZJ3WIqid",
        "colab": {
          "base_uri": "https://localhost:8080/"
        },
        "outputId": "f5cd5a65-4d4c-43dc-8b9c-9328a4460289"
      },
      "source": [
        "# divide into input labels and output data\n",
        "X_train = training_data[0:30,0]\n",
        "X_train = X_train.reshape(X_train.shape[0], 1)\n",
        "Y_train = training_data[0:30,1:4]\n",
        "print(X_train.shape, Y_train.shape)"
      ],
      "execution_count": null,
      "outputs": [
        {
          "output_type": "stream",
          "text": [
            "(30, 1) (30, 3)\n"
          ],
          "name": "stdout"
        }
      ]
    },
    {
      "cell_type": "code",
      "metadata": {
        "colab": {
          "base_uri": "https://localhost:8080/"
        },
        "id": "lS5TL451qWcs",
        "outputId": "9f990fff-51c7-4075-b205-0f1a4573cfed"
      },
      "source": [
        "# divide into input labels and output data\n",
        "X_test = training_data[30:,0]\n",
        "X_test = X_test.reshape(X_test.shape[0], 1)\n",
        "Y_test = training_data[30:,1:4]\n",
        "print(X_test.shape, Y_test.shape)"
      ],
      "execution_count": null,
      "outputs": [
        {
          "output_type": "stream",
          "text": [
            "(10, 1) (10, 3)\n"
          ],
          "name": "stdout"
        }
      ]
    },
    {
      "cell_type": "code",
      "metadata": {
        "id": "Bqn4hwTGCrIu"
      },
      "source": [
        "G1 = Y_train[:,0];\n",
        "G1.reshape(30,1);\n",
        "G2 = Y_train[:,1];\n",
        "G2.reshape(30,1);\n",
        "G3 = Y_train[:,2];\n",
        "G3.reshape(30,1);"
      ],
      "execution_count": null,
      "outputs": []
    },
    {
      "cell_type": "code",
      "metadata": {
        "colab": {
          "base_uri": "https://localhost:8080/"
        },
        "id": "F6mZuWhDnY34",
        "outputId": "eb9cbdc7-ddd7-4462-8d8b-95ddf9ca2460"
      },
      "source": [
        "X_train[6]"
      ],
      "execution_count": null,
      "outputs": [
        {
          "output_type": "execute_result",
          "data": {
            "text/plain": [
              "array([56.])"
            ]
          },
          "metadata": {
            "tags": []
          },
          "execution_count": 11
        }
      ]
    },
    {
      "cell_type": "code",
      "metadata": {
        "colab": {
          "base_uri": "https://localhost:8080/"
        },
        "id": "YHr_2FOqnYz7",
        "outputId": "74347243-e75e-432c-cb18-18f347576902"
      },
      "source": [
        "Y_train[6]"
      ],
      "execution_count": null,
      "outputs": [
        {
          "output_type": "execute_result",
          "data": {
            "text/plain": [
              "array([10.    , 33.5358, 12.7716])"
            ]
          },
          "metadata": {
            "tags": []
          },
          "execution_count": 12
        }
      ]
    },
    {
      "cell_type": "code",
      "metadata": {
        "colab": {
          "base_uri": "https://localhost:8080/"
        },
        "id": "h6oYbt80C407",
        "outputId": "e5b6c3be-d474-4baf-c455-a6d8c8b2edb0"
      },
      "source": [
        "G3[6]"
      ],
      "execution_count": null,
      "outputs": [
        {
          "output_type": "execute_result",
          "data": {
            "text/plain": [
              "12.7716"
            ]
          },
          "metadata": {
            "tags": []
          },
          "execution_count": 13
        }
      ]
    },
    {
      "cell_type": "markdown",
      "metadata": {
        "id": "Na6vI5nKXAwy"
      },
      "source": [
        "#Building ANN Model\n",
        "Here, we will build an ANN model that can optimise the load dispatch problem"
      ]
    },
    {
      "cell_type": "code",
      "metadata": {
        "id": "q-KLO87sQVq3"
      },
      "source": [
        "# import libraries\n",
        "from keras import datasets, models, layers"
      ],
      "execution_count": null,
      "outputs": []
    },
    {
      "cell_type": "code",
      "metadata": {
        "colab": {
          "base_uri": "https://localhost:8080/"
        },
        "id": "AABmMoidaGW0",
        "outputId": "ca2e7618-75be-4382-c6c4-7b9de8092f0a"
      },
      "source": [
        "X_train"
      ],
      "execution_count": null,
      "outputs": [
        {
          "output_type": "execute_result",
          "data": {
            "text/plain": [
              "array([[150.],\n",
              "       [100.],\n",
              "       [126.],\n",
              "       [119.],\n",
              "       [227.],\n",
              "       [ 81.],\n",
              "       [ 56.],\n",
              "       [114.],\n",
              "       [161.],\n",
              "       [ 64.],\n",
              "       [139.],\n",
              "       [198.],\n",
              "       [110.],\n",
              "       [173.],\n",
              "       [ 35.],\n",
              "       [213.],\n",
              "       [215.],\n",
              "       [170.],\n",
              "       [221.],\n",
              "       [230.],\n",
              "       [197.],\n",
              "       [ 53.],\n",
              "       [103.],\n",
              "       [ 71.],\n",
              "       [190.],\n",
              "       [ 69.],\n",
              "       [ 38.],\n",
              "       [ 30.],\n",
              "       [188.],\n",
              "       [223.]])"
            ]
          },
          "metadata": {
            "tags": []
          },
          "execution_count": 15
        }
      ]
    },
    {
      "cell_type": "code",
      "metadata": {
        "colab": {
          "base_uri": "https://localhost:8080/"
        },
        "id": "c1sLuVIaovlN",
        "outputId": "c84a4273-57c4-4bd1-ec9e-4bd1b5dd0993"
      },
      "source": [
        "from tensorflow.keras import datasets, layers, models\n",
        "ANN1 = models.Sequential()\n",
        "# add layer 1 - Fully Connected Layer\n",
        "ANN1.add(layers.Dense(400, activation = 'relu', input_dim = 1))\n",
        "# add layer 2 - Fully Connected Layer\n",
        "ANN1.add(layers.Dense(400, activation = 'relu'))\n",
        "# add layer 3 - Fully Connected Layer\n",
        "ANN1.add(layers.Dense(400, activation = 'relu'))\n",
        "# add layer 4 - Fully Connected Layer\n",
        "ANN1.add(layers.Dense(400, activation = 'relu'))\n",
        "# add layer 5 - Fully Connected Layer\n",
        "ANN1.add(layers.Dense(400, activation = 'relu'))\n",
        "# add layer 6 - Fully Connected Layer\n",
        "ANN1.add(layers.Dense(400, activation = 'relu'))\n",
        "# Output Layer\n",
        "ANN1.add(layers.Dense(1))\n",
        "ANN1.summary()"
      ],
      "execution_count": null,
      "outputs": [
        {
          "output_type": "stream",
          "text": [
            "Model: \"sequential\"\n",
            "_________________________________________________________________\n",
            "Layer (type)                 Output Shape              Param #   \n",
            "=================================================================\n",
            "dense (Dense)                (None, 400)               800       \n",
            "_________________________________________________________________\n",
            "dense_1 (Dense)              (None, 400)               160400    \n",
            "_________________________________________________________________\n",
            "dense_2 (Dense)              (None, 400)               160400    \n",
            "_________________________________________________________________\n",
            "dense_3 (Dense)              (None, 400)               160400    \n",
            "_________________________________________________________________\n",
            "dense_4 (Dense)              (None, 400)               160400    \n",
            "_________________________________________________________________\n",
            "dense_5 (Dense)              (None, 400)               160400    \n",
            "_________________________________________________________________\n",
            "dense_6 (Dense)              (None, 1)                 401       \n",
            "=================================================================\n",
            "Total params: 803,201\n",
            "Trainable params: 803,201\n",
            "Non-trainable params: 0\n",
            "_________________________________________________________________\n"
          ],
          "name": "stdout"
        }
      ]
    },
    {
      "cell_type": "code",
      "metadata": {
        "colab": {
          "base_uri": "https://localhost:8080/"
        },
        "id": "o-IkmJZ1D-33",
        "outputId": "82bc7f9d-fa5f-4192-9ea3-98c49e578d60"
      },
      "source": [
        "from tensorflow.keras import datasets, layers, models\n",
        "ANN2 = models.Sequential()\n",
        "# add layer 1 - Fully Connected Layer\n",
        "ANN2.add(layers.Dense(400, activation = 'relu', input_dim = 1))\n",
        "# add layer 2 - Fully Connected Layer\n",
        "ANN2.add(layers.Dense(400, activation = 'relu'))\n",
        "# add layer 3 - Fully Connected Layer\n",
        "ANN2.add(layers.Dense(400, activation = 'relu'))\n",
        "# add layer 4 - Fully Connected Layer\n",
        "ANN2.add(layers.Dense(400, activation = 'relu'))\n",
        "# add layer 5 - Fully Connected Layer\n",
        "ANN2.add(layers.Dense(400, activation = 'relu'))\n",
        "# add layer 6 - Fully Connected Layer\n",
        "ANN2.add(layers.Dense(400, activation = 'relu'))\n",
        "# Output Layer\n",
        "ANN2.add(layers.Dense(1))\n",
        "ANN2.summary()"
      ],
      "execution_count": null,
      "outputs": [
        {
          "output_type": "stream",
          "text": [
            "Model: \"sequential_1\"\n",
            "_________________________________________________________________\n",
            "Layer (type)                 Output Shape              Param #   \n",
            "=================================================================\n",
            "dense_7 (Dense)              (None, 400)               800       \n",
            "_________________________________________________________________\n",
            "dense_8 (Dense)              (None, 400)               160400    \n",
            "_________________________________________________________________\n",
            "dense_9 (Dense)              (None, 400)               160400    \n",
            "_________________________________________________________________\n",
            "dense_10 (Dense)             (None, 400)               160400    \n",
            "_________________________________________________________________\n",
            "dense_11 (Dense)             (None, 400)               160400    \n",
            "_________________________________________________________________\n",
            "dense_12 (Dense)             (None, 400)               160400    \n",
            "_________________________________________________________________\n",
            "dense_13 (Dense)             (None, 1)                 401       \n",
            "=================================================================\n",
            "Total params: 803,201\n",
            "Trainable params: 803,201\n",
            "Non-trainable params: 0\n",
            "_________________________________________________________________\n"
          ],
          "name": "stdout"
        }
      ]
    },
    {
      "cell_type": "code",
      "metadata": {
        "colab": {
          "base_uri": "https://localhost:8080/"
        },
        "id": "K-n2byGKEIgt",
        "outputId": "fc3c3561-5115-4fb2-f696-b171d8da23de"
      },
      "source": [
        "from tensorflow.keras import datasets, layers, models\n",
        "ANN3 = models.Sequential()\n",
        "# add layer 1 - Fully Connected Layer\n",
        "ANN3.add(layers.Dense(400, activation = 'relu', input_dim = 1))\n",
        "# add layer 2 - Fully Connected Layer\n",
        "ANN3.add(layers.Dense(400, activation = 'relu'))\n",
        "# add layer 3 - Fully Connected Layer\n",
        "ANN3.add(layers.Dense(400, activation = 'relu'))\n",
        "# add layer 4 - Fully Connected Layer\n",
        "ANN3.add(layers.Dense(400, activation = 'relu'))\n",
        "# add layer 5 - Fully Connected Layer\n",
        "ANN3.add(layers.Dense(400, activation = 'relu'))\n",
        "# add layer 6 - Fully Connected Layer\n",
        "ANN3.add(layers.Dense(400, activation = 'relu'))\n",
        "# Output Layer\n",
        "ANN3.add(layers.Dense(1))\n",
        "ANN3.summary()"
      ],
      "execution_count": null,
      "outputs": [
        {
          "output_type": "stream",
          "text": [
            "Model: \"sequential_2\"\n",
            "_________________________________________________________________\n",
            "Layer (type)                 Output Shape              Param #   \n",
            "=================================================================\n",
            "dense_14 (Dense)             (None, 400)               800       \n",
            "_________________________________________________________________\n",
            "dense_15 (Dense)             (None, 400)               160400    \n",
            "_________________________________________________________________\n",
            "dense_16 (Dense)             (None, 400)               160400    \n",
            "_________________________________________________________________\n",
            "dense_17 (Dense)             (None, 400)               160400    \n",
            "_________________________________________________________________\n",
            "dense_18 (Dense)             (None, 400)               160400    \n",
            "_________________________________________________________________\n",
            "dense_19 (Dense)             (None, 400)               160400    \n",
            "_________________________________________________________________\n",
            "dense_20 (Dense)             (None, 1)                 401       \n",
            "=================================================================\n",
            "Total params: 803,201\n",
            "Trainable params: 803,201\n",
            "Non-trainable params: 0\n",
            "_________________________________________________________________\n"
          ],
          "name": "stdout"
        }
      ]
    },
    {
      "cell_type": "code",
      "metadata": {
        "id": "b1ctvgy0hclE"
      },
      "source": [
        "# Compile the models\n",
        "ANN1.compile(optimizer='Adam', loss='mean_squared_error')\n",
        "ANN2.compile(optimizer='Adam', loss='mean_squared_error')\n",
        "ANN3.compile(optimizer='Adam', loss='mean_squared_error')"
      ],
      "execution_count": null,
      "outputs": []
    },
    {
      "cell_type": "markdown",
      "metadata": {
        "id": "S_5Eh13chOs8"
      },
      "source": [
        "# Train the model\n",
        "In this section we will train our model on X_train\n"
      ]
    },
    {
      "cell_type": "code",
      "metadata": {
        "id": "PxTpuO1IiNnp"
      },
      "source": [
        "history1 = ANN1.fit(X_train, G1, epochs = 5000, shuffle=True, verbose=0)"
      ],
      "execution_count": null,
      "outputs": []
    },
    {
      "cell_type": "code",
      "metadata": {
        "id": "ZdCV2coxE2JV"
      },
      "source": [
        "history2 = ANN2.fit(X_train, G2, epochs = 5000, shuffle=True, verbose = 0)"
      ],
      "execution_count": null,
      "outputs": []
    },
    {
      "cell_type": "code",
      "metadata": {
        "id": "-CmsvhBhE2MP"
      },
      "source": [
        "history3 = ANN3.fit(X_train, G3, epochs = 5000, shuffle=True, verbose =0)"
      ],
      "execution_count": null,
      "outputs": []
    },
    {
      "cell_type": "markdown",
      "metadata": {
        "id": "A70Rkso6vdgp"
      },
      "source": [
        "#Evaluating the model\n",
        "In this section, we will plot the training accuracy with epochs and also calculate, confusion matrix"
      ]
    },
    {
      "cell_type": "code",
      "metadata": {
        "id": "KOa6wQZtvZpY",
        "colab": {
          "base_uri": "https://localhost:8080/"
        },
        "outputId": "4cdaa2b3-d606-420a-b9d2-aa2d676148d1"
      },
      "source": [
        "test_score = ANN1.evaluate(X_test, Y_test[:,0]) # Test Accuracy\n",
        "test_score = ANN2.evaluate(X_test, Y_test[:,1]) # Test Accuracy\n",
        "test_score = ANN3.evaluate(X_test, Y_test[:,2]) # Test Accuracy"
      ],
      "execution_count": null,
      "outputs": [
        {
          "output_type": "stream",
          "text": [
            "1/1 [==============================] - 0s 1ms/step - loss: 1.4342\n",
            "1/1 [==============================] - 0s 1ms/step - loss: 1.7370\n",
            "1/1 [==============================] - 0s 1ms/step - loss: 0.8763\n"
          ],
          "name": "stdout"
        }
      ]
    },
    {
      "cell_type": "code",
      "metadata": {
        "id": "HpU9PwdUvZkp",
        "colab": {
          "base_uri": "https://localhost:8080/"
        },
        "outputId": "517e4d2b-43d9-4559-dcfc-a88f407afe1c"
      },
      "source": [
        "history3.history.keys()"
      ],
      "execution_count": null,
      "outputs": [
        {
          "output_type": "execute_result",
          "data": {
            "text/plain": [
              "dict_keys(['loss'])"
            ]
          },
          "metadata": {
            "tags": []
          },
          "execution_count": 28
        }
      ]
    },
    {
      "cell_type": "code",
      "metadata": {
        "id": "dukqVcMvwlO5"
      },
      "source": [
        "loss = history3.history['loss']"
      ],
      "execution_count": null,
      "outputs": []
    },
    {
      "cell_type": "code",
      "metadata": {
        "id": "AQy_QUiBxYPR"
      },
      "source": [
        "epochs = range(len(loss))"
      ],
      "execution_count": null,
      "outputs": []
    },
    {
      "cell_type": "code",
      "metadata": {
        "id": "3xraZUl4xYSB",
        "colab": {
          "base_uri": "https://localhost:8080/",
          "height": 282
        },
        "outputId": "dde99554-1e3a-47f3-d4d9-c2c6e3c2aa4e"
      },
      "source": [
        "plt.plot(epochs[110:115], loss[110:115], 'r-')"
      ],
      "execution_count": null,
      "outputs": [
        {
          "output_type": "execute_result",
          "data": {
            "text/plain": [
              "[<matplotlib.lines.Line2D at 0x7ff3900e2748>]"
            ]
          },
          "metadata": {
            "tags": []
          },
          "execution_count": 34
        },
        {
          "output_type": "display_data",
          "data": {
            "image/png": "[encoded data removed]",
            "text/plain": [
              "<Figure size 432x288 with 1 Axes>"
            ]
          },
          "metadata": {
            "tags": [],
            "needs_background": "light"
          }
        }
      ]
    },
    {
      "cell_type": "code",
      "metadata": {
        "colab": {
          "base_uri": "https://localhost:8080/"
        },
        "id": "iWd6d42hpA32",
        "outputId": "43ba4c6f-02c3-4689-84dc-d2d2156ec988"
      },
      "source": [
        "Y_test"
      ],
      "execution_count": null,
      "outputs": [
        {
          "output_type": "execute_result",
          "data": {
            "text/plain": [
              "array([[11.3387, 43.0745, 25.1511],\n",
              "       [48.9084, 76.3938, 68.3869],\n",
              "       [27.0371, 56.9889, 43.208 ],\n",
              "       [38.1174, 66.8169, 55.9609],\n",
              "       [10.    , 22.1516, 10.    ],\n",
              "       [14.6707, 46.0269, 28.9826],\n",
              "       [71.4492, 80.    , 70.    ],\n",
              "       [10.    , 11.0677, 10.    ],\n",
              "       [10.    , 24.1729, 10.    ],\n",
              "       [85.    , 80.    , 70.    ]])"
            ]
          },
          "metadata": {
            "tags": []
          },
          "execution_count": 35
        }
      ]
    },
    {
      "cell_type": "code",
      "metadata": {
        "id": "AhBrObK4brx3"
      },
      "source": [
        "G1_load = ANN1.predict(X_test)\n",
        "G1_load.reshape(10,1);\n",
        "G2_load = ANN2.predict(X_test)\n",
        "G2_load.reshape(10,1);\n",
        "G3_load = ANN3.predict(X_test)\n",
        "G3_load.reshape(10,1);"
      ],
      "execution_count": null,
      "outputs": []
    },
    {
      "cell_type": "code",
      "metadata": {
        "colab": {
          "base_uri": "https://localhost:8080/"
        },
        "id": "4Mxfyz2eLjFo",
        "outputId": "c8d9a459-aa6d-493a-b6ce-8a4deb67c3a9"
      },
      "source": [
        "print(G1_load[1], G2_load[1], G3_load[1])"
      ],
      "execution_count": null,
      "outputs": [
        {
          "output_type": "stream",
          "text": [
            "[49.050636] [76.2912] [68.13999]\n"
          ],
          "name": "stdout"
        }
      ]
    },
    {
      "cell_type": "code",
      "metadata": {
        "colab": {
          "base_uri": "https://localhost:8080/"
        },
        "id": "1UtQrzIbryCo",
        "outputId": "7b55c8b5-0208-4f17-b3f5-a9f448e7dc7d"
      },
      "source": [
        "sum = 0;\n",
        "for i in range(10):\n",
        "  err=(G1_load[i]-Y_test[i,0])/Y_test[i,0];\n",
        "  j = err*err;\n",
        "  sum = sum+j;\n",
        "  print(j);"
      ],
      "execution_count": null,
      "outputs": [
        {
          "output_type": "stream",
          "text": [
            "[0.00680699]\n",
            "[8.457554e-06]\n",
            "[0.00672561]\n",
            "[6.1922788e-06]\n",
            "[0.0001522]\n",
            "[0.00996888]\n",
            "[1.1356551e-06]\n",
            "[1.2947137e-07]\n",
            "[0.00018535]\n",
            "[0.00087699]\n"
          ],
          "name": "stdout"
        }
      ]
    },
    {
      "cell_type": "code",
      "metadata": {
        "colab": {
          "base_uri": "https://localhost:8080/"
        },
        "id": "F7wS3bhnsNJo",
        "outputId": "f68923d3-4870-4fbf-bacb-ad94f3dd0aa4"
      },
      "source": [
        "sum"
      ],
      "execution_count": null,
      "outputs": [
        {
          "output_type": "execute_result",
          "data": {
            "text/plain": [
              "array([0.02473193], dtype=float32)"
            ]
          },
          "metadata": {
            "tags": []
          },
          "execution_count": 40
        }
      ]
    },
    {
      "cell_type": "code",
      "metadata": {
        "colab": {
          "base_uri": "https://localhost:8080/",
          "height": 297
        },
        "id": "fI4RXar-ukdX",
        "outputId": "3d921df6-e452-475f-a733-c826ac885086"
      },
      "source": [
        "plt.plot(Y_test[:,0],'rx-')\n",
        "plt.plot(G1_load,'go-')\n",
        "plt.xlabel('Test Set')\n",
        "plt.ylabel('Generator 1 Load (M W)')\n",
        "plt.legend([\"Original Data\", \"ANN Output\"], loc =\"upper left\")"
      ],
      "execution_count": null,
      "outputs": [
        {
          "output_type": "execute_result",
          "data": {
            "text/plain": [
              "<matplotlib.legend.Legend at 0x7ff384384390>"
            ]
          },
          "metadata": {
            "tags": []
          },
          "execution_count": 41
        },
        {
          "output_type": "display_data",
          "data": {
            "image/png": "[encoded data removed]",
            "text/plain": [
              "<Figure size 432x288 with 1 Axes>"
            ]
          },
          "metadata": {
            "tags": [],
            "needs_background": "light"
          }
        }
      ]
    },
    {
      "cell_type": "code",
      "metadata": {
        "colab": {
          "base_uri": "https://localhost:8080/",
          "height": 296
        },
        "id": "nlC5ShXzMMay",
        "outputId": "375c5cdc-d619-4488-f74c-de9a25425a35"
      },
      "source": [
        "plt.plot(Y_test[:,1],'rx-')\n",
        "plt.plot(G2_load,'go-')\n",
        "plt.xlabel('Test Set')\n",
        "plt.ylabel('Generator 2 Load (M W)')\n",
        "plt.legend([\"Original Values\", \"Predicted Values\"], loc =\"lower left\")"
      ],
      "execution_count": null,
      "outputs": [
        {
          "output_type": "execute_result",
          "data": {
            "text/plain": [
              "<matplotlib.legend.Legend at 0x7ff3842e4ac8>"
            ]
          },
          "metadata": {
            "tags": []
          },
          "execution_count": 42
        },
        {
          "output_type": "display_data",
          "data": {
            "image/png": "[encoded data removed]",
            "text/plain": [
              "<Figure size 432x288 with 1 Axes>"
            ]
          },
          "metadata": {
            "tags": [],
            "needs_background": "light"
          }
        }
      ]
    },
    {
      "cell_type": "code",
      "metadata": {
        "colab": {
          "base_uri": "https://localhost:8080/",
          "height": 296
        },
        "id": "X9Luq48vMMYw",
        "outputId": "c5b7d370-d3df-404b-e698-8ebb1aab2133"
      },
      "source": [
        "plt.plot(Y_test[:,2],'rx-')\n",
        "plt.plot(G3_load,'go-')\n",
        "plt.xlabel('Test Set')\n",
        "plt.ylabel('Generator 3 Load (M W)')\n",
        "plt.legend([\"Original Values\", \"Predicted Values\"], loc =\"lower left\")"
      ],
      "execution_count": null,
      "outputs": [
        {
          "output_type": "execute_result",
          "data": {
            "text/plain": [
              "<matplotlib.legend.Legend at 0x7ff3842bee48>"
            ]
          },
          "metadata": {
            "tags": []
          },
          "execution_count": 43
        },
        {
          "output_type": "display_data",
          "data": {
            "image/png": "[encoded data removed]",
            "text/plain": [
              "<Figure size 432x288 with 1 Axes>"
            ]
          },
          "metadata": {
            "tags": [],
            "needs_background": "light"
          }
        }
      ]
    },
    {
      "cell_type": "code",
      "metadata": {
        "colab": {
          "base_uri": "https://localhost:8080/",
          "height": 297
        },
        "id": "4tE3qEkzMKl8",
        "outputId": "5d029c91-7d87-4c16-c2cc-f316bca35bee"
      },
      "source": [
        "plt.plot(X_test,G1_load,'bx')\n",
        "plt.xlabel('Power Demand(M W)')\n",
        "plt.ylabel('Generator 1 Load (M W)')"
      ],
      "execution_count": null,
      "outputs": [
        {
          "output_type": "execute_result",
          "data": {
            "text/plain": [
              "Text(0, 0.5, 'Generator 1 Load (M W)')"
            ]
          },
          "metadata": {
            "tags": []
          },
          "execution_count": 60
        },
        {
          "output_type": "display_data",
          "data": {
            "image/png": "[encoded data removed]",
            "text/plain": [
              "<Figure size 432x288 with 1 Axes>"
            ]
          },
          "metadata": {
            "tags": [],
            "needs_background": "light"
          }
        }
      ]
    },
    {
      "cell_type": "code",
      "metadata": {
        "colab": {
          "base_uri": "https://localhost:8080/",
          "height": 296
        },
        "id": "KIRNOkxeMb8w",
        "outputId": "ae6b3886-1c37-420b-8377-92bf88169d14"
      },
      "source": [
        "plt.plot(X_test,G2_load,'bx')\n",
        "plt.xlabel('Power Demand(M W)')\n",
        "plt.ylabel('Generator 2 Load (M W)')"
      ],
      "execution_count": null,
      "outputs": [
        {
          "output_type": "execute_result",
          "data": {
            "text/plain": [
              "Text(0, 0.5, 'Generator 2 Load (M W)')"
            ]
          },
          "metadata": {
            "tags": []
          },
          "execution_count": 63
        },
        {
          "output_type": "display_data",
          "data": {
            "image/png": "[encoded data removed]",
            "text/plain": [
              "<Figure size 432x288 with 1 Axes>"
            ]
          },
          "metadata": {
            "tags": [],
            "needs_background": "light"
          }
        }
      ]
    },
    {
      "cell_type": "code",
      "metadata": {
        "colab": {
          "base_uri": "https://localhost:8080/",
          "height": 296
        },
        "id": "kTsuuJ4tMcEW",
        "outputId": "119eacfb-e9b4-4c64-cfcf-1523d057fb4a"
      },
      "source": [
        "plt.plot(X_test,G3_load,'bx')\n",
        "plt.xlabel('Power Demand(M W)')\n",
        "plt.ylabel('Generator 3 Load (M W)')"
      ],
      "execution_count": null,
      "outputs": [
        {
          "output_type": "execute_result",
          "data": {
            "text/plain": [
              "Text(0, 0.5, 'Generator 3 Load (M W)')"
            ]
          },
          "metadata": {
            "tags": []
          },
          "execution_count": 52
        },
        {
          "output_type": "display_data",
          "data": {
            "image/png": "[encoded data removed]",
            "text/plain": [
              "<Figure size 432x288 with 1 Axes>"
            ]
          },
          "metadata": {
            "tags": [],
            "needs_background": "light"
          }
        }
      ]
    }
  ]
}